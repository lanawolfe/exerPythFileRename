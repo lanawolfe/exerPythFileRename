{
 "cells": [
  {
   "cell_type": "code",
   "execution_count": 1,
   "metadata": {},
   "outputs": [],
   "source": [
    "import os"
   ]
  },
  {
   "cell_type": "code",
   "execution_count": 4,
   "metadata": {},
   "outputs": [],
   "source": [
    "os.chdir('/Users/lwolf/Desktop/example files')"
   ]
  },
  {
   "cell_type": "code",
   "execution_count": 5,
   "metadata": {
    "tags": []
   },
   "outputs": [
    {
     "name": "stdout",
     "output_type": "stream",
     "text": [
      "c:\\Users\\lwolf\\Desktop\\example files\n"
     ]
    }
   ],
   "source": [
    "print(os.getcwd())"
   ]
  },
  {
   "cell_type": "code",
   "execution_count": 7,
   "metadata": {
    "tags": []
   },
   "outputs": [
    {
     "name": "stdout",
     "output_type": "stream",
     "text": [
      "hello- comp science - #2.docx\n",
      "I hope I am doing this correct- comp science- #3.docx\n",
      "video feedback- comp science- #4.docx\n",
      "work around video- comp science- #1.docx\n"
     ]
    }
   ],
   "source": [
    "for f in os.listdir():\n",
    "    print(f)"
   ]
  },
  {
   "cell_type": "code",
   "execution_count": 15,
   "metadata": {
    "tags": []
   },
   "outputs": [
    {
     "name": "stdout",
     "output_type": "stream",
     "text": [
      "('hello- comp science - #2', '.docx')\n",
      "('I hope I am doing this correct- comp science- #3', '.docx')\n",
      "('video feedback- comp science- #4', '.docx')\n",
      "('work around video- comp science- #1', '.docx')\n"
     ]
    }
   ],
   "source": [
    "for f in os.listdir():\n",
    "   print(os.path.splitext(f))"
   ]
  },
  {
   "cell_type": "code",
   "execution_count": 18,
   "metadata": {
    "tags": []
   },
   "outputs": [
    {
     "name": "stdout",
     "output_type": "stream",
     "text": [
      "hello- comp science - #2\n",
      "I hope I am doing this correct- comp science- #3\n",
      "video feedback- comp science- #4\n",
      "work around video- comp science- #1\n"
     ]
    }
   ],
   "source": [
    "#indent second line\n",
    "for f in os.listdir():\n",
    "    file_name, file_ext = os.path.splitext(f)\n",
    "    print(file_name)"
   ]
  },
  {
   "cell_type": "code",
   "execution_count": 19,
   "metadata": {
    "tags": []
   },
   "outputs": [
    {
     "name": "stdout",
     "output_type": "stream",
     "text": [
      "['hello', ' comp science ', ' #2']\n",
      "['I hope I am doing this correct', ' comp science', ' #3']\n",
      "['video feedback', ' comp science', ' #4']\n",
      "['work around video', ' comp science', ' #1']\n"
     ]
    }
   ],
   "source": [
    "for f in os.listdir():\n",
    "    file_name, file_ext = os.path.splitext(f)\n",
    "    print(file_name.split('-'))"
   ]
  },
  {
   "cell_type": "code",
   "execution_count": 22,
   "metadata": {
    "tags": []
   },
   "outputs": [
    {
     "name": "stdout",
     "output_type": "stream",
     "text": [
      "hello\n",
      "I hope I am doing this correct\n",
      "video feedback\n",
      "work around video\n"
     ]
    }
   ],
   "source": [
    "for f in os.listdir():\n",
    "    file_name, file_ext = os.path.splitext(f)\n",
    "    f_title, f_course, f_num = file_name.split('-')\n",
    "    print(f_title)"
   ]
  },
  {
   "cell_type": "code",
   "execution_count": 23,
   "metadata": {
    "tags": []
   },
   "outputs": [
    {
     "name": "stdout",
     "output_type": "stream",
     "text": [
      "comp science \n",
      " comp science\n",
      " comp science\n",
      " comp science\n"
     ]
    }
   ],
   "source": [
    "for f in os.listdir():\n",
    "    file_name, file_ext = os.path.splitext(f)\n",
    "    f_title, f_course, f_num = file_name.split('-')\n",
    "    print(f_course)"
   ]
  },
  {
   "cell_type": "code",
   "execution_count": 24,
   "metadata": {
    "tags": []
   },
   "outputs": [
    {
     "name": "stdout",
     "output_type": "stream",
     "text": [
      "#2\n",
      " #3\n",
      " #4\n",
      " #1\n"
     ]
    }
   ],
   "source": [
    "for f in os.listdir():\n",
    "    f_name, f_ext = os.path.splitext(f)\n",
    "    f_title, f_course, f_num = f_name.split('-')\n",
    "    print(f_num)"
   ]
  },
  {
   "cell_type": "code",
   "execution_count": 25,
   "metadata": {
    "tags": []
   },
   "outputs": [
    {
     "name": "stdout",
     "output_type": "stream",
     "text": [
      "#2- comp science -hello.docx\n",
      " #3- comp science-I hope I am doing this correct.docx\n",
      " #4- comp science-video feedback.docx\n",
      " #1- comp science-work around video.docx\n"
     ]
    }
   ],
   "source": [
    "for f in os.listdir():\n",
    "    f_name, f_ext = os.path.splitext(f)\n",
    "    f_title, f_course, f_num = f_name.split('-')\n",
    "    print('{}-{}-{}{}'.format(f_num, f_course, f_title, f_ext))"
   ]
  },
  {
   "cell_type": "code",
   "execution_count": 28,
   "metadata": {
    "tags": []
   },
   "outputs": [
    {
     "name": "stdout",
     "output_type": "stream",
     "text": [
      "#2-comp science-hello.docx\n",
      "#3-comp science-I hope I am doing this correct.docx\n",
      "#4-comp science-video feedback.docx\n",
      "#1-comp science-work around video.docx\n"
     ]
    }
   ],
   "source": [
    "for f in os.listdir():\n",
    "    f_name, f_ext = os.path.splitext(f)\n",
    "    f_title, f_course, f_num = f_name.split('-')\n",
    "    f_title = f_title.strip()\n",
    "    f_course = f_course.strip()\n",
    "    f_num = f_num.strip()\n",
    "    print('{}-{}-{}{}'.format(f_num, f_course, f_title, f_ext))"
   ]
  },
  {
   "cell_type": "code",
   "execution_count": 29,
   "metadata": {
    "tags": []
   },
   "outputs": [
    {
     "name": "stdout",
     "output_type": "stream",
     "text": [
      "2-comp science-hello.docx\n",
      "3-comp science-I hope I am doing this correct.docx\n",
      "4-comp science-video feedback.docx\n",
      "1-comp science-work around video.docx\n"
     ]
    }
   ],
   "source": [
    "for f in os.listdir():\n",
    "    f_name, f_ext = os.path.splitext(f)\n",
    "    f_title, f_course, f_num = f_name.split('-')\n",
    "    f_title = f_title.strip()\n",
    "    f_course = f_course.strip()\n",
    "    f_num = f_num.strip()[1:]\n",
    "    print('{}-{}-{}{}'.format (f_num, f_course, f_title, f_ext))"
   ]
  },
  {
   "cell_type": "code",
   "execution_count": 30,
   "metadata": {
    "tags": []
   },
   "outputs": [
    {
     "name": "stdout",
     "output_type": "stream",
     "text": [
      "02-comp science-hello.docx\n",
      "03-comp science-I hope I am doing this correct.docx\n",
      "04-comp science-video feedback.docx\n",
      "01-comp science-work around video.docx\n"
     ]
    }
   ],
   "source": [
    "for f in os.listdir():\n",
    "    f_name, f_ext = os.path.splitext(f)\n",
    "    f_title, f_course, f_num = f_name.split('-')\n",
    "    f_title = f_title.strip()\n",
    "    f_course = f_course.strip()\n",
    "    f_num = f_num.strip()[1:].zfill(2)\n",
    "    print('{}-{}-{}{}'.format (f_num, f_course, f_title, f_ext))"
   ]
  },
  {
   "cell_type": "code",
   "execution_count": 31,
   "metadata": {
    "tags": []
   },
   "outputs": [
    {
     "name": "stdout",
     "output_type": "stream",
     "text": [
      "02-hello.docx\n",
      "03-I hope I am doing this correct.docx\n",
      "04-video feedback.docx\n",
      "01-work around video.docx\n"
     ]
    }
   ],
   "source": [
    "for f in os.listdir():\n",
    "    f_name, f_ext = os.path.splitext(f)\n",
    "    f_title, f_course, f_num = f_name.split('-')\n",
    "    f_title = f_title.strip()\n",
    "    f_course = f_course.strip()\n",
    "    f_num = f_num.strip()[1:].zfill(2)\n",
    "    print('{}-{}{}'.format (f_num, f_title, f_ext))"
   ]
  },
  {
   "cell_type": "code",
   "execution_count": null,
   "metadata": {},
   "outputs": [],
   "source": []
  },
  {
   "cell_type": "code",
   "execution_count": null,
   "metadata": {},
   "outputs": [],
   "source": []
  }
 ],
 "metadata": {
  "kernelspec": {
   "display_name": "Python 3.8.5 32-bit",
   "language": "python",
   "name": "python38532bit3f46780572454b9b8d4c8d1582adbeaa"
  },
  "language_info": {
   "codemirror_mode": {
    "name": "ipython",
    "version": 3
   },
   "file_extension": ".py",
   "mimetype": "text/x-python",
   "name": "python",
   "nbconvert_exporter": "python",
   "pygments_lexer": "ipython3",
   "version": "3.8.5"
  }
 },
 "nbformat": 4,
 "nbformat_minor": 2
}
